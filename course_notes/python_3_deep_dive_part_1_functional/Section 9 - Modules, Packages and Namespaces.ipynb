{
 "cells": [
  {
   "cell_type": "markdown",
   "metadata": {},
   "source": [
    "# What is a Module"
   ]
  },
  {
   "cell_type": "code",
   "execution_count": 1,
   "metadata": {},
   "outputs": [],
   "source": [
    "import math"
   ]
  },
  {
   "cell_type": "code",
   "execution_count": 2,
   "metadata": {},
   "outputs": [
    {
     "data": {
      "text/plain": [
       "<module 'math' from '/Applications/anaconda3/lib/python3.7/lib-dynload/math.cpython-37m-darwin.so'>"
      ]
     },
     "execution_count": 2,
     "metadata": {},
     "output_type": "execute_result"
    }
   ],
   "source": [
    "math"
   ]
  },
  {
   "cell_type": "code",
   "execution_count": 3,
   "metadata": {},
   "outputs": [],
   "source": [
    "import fractions"
   ]
  },
  {
   "cell_type": "code",
   "execution_count": 4,
   "metadata": {},
   "outputs": [
    {
     "data": {
      "text/plain": [
       "<module 'fractions' from '/Applications/anaconda3/lib/python3.7/fractions.py'>"
      ]
     },
     "execution_count": 4,
     "metadata": {},
     "output_type": "execute_result"
    }
   ],
   "source": [
    "fractions"
   ]
  },
  {
   "cell_type": "code",
   "execution_count": 5,
   "metadata": {},
   "outputs": [
    {
     "data": {
      "text/plain": [
       "{'__name__': '__main__',\n",
       " '__doc__': 'Automatically created module for IPython interactive environment',\n",
       " '__package__': None,\n",
       " '__loader__': None,\n",
       " '__spec__': None,\n",
       " '__builtin__': <module 'builtins' (built-in)>,\n",
       " '__builtins__': <module 'builtins' (built-in)>,\n",
       " '_ih': ['',\n",
       "  'import math',\n",
       "  'math',\n",
       "  'import fractions',\n",
       "  'fractions',\n",
       "  'globals()'],\n",
       " '_oh': {2: <module 'math' from '/Applications/anaconda3/lib/python3.7/lib-dynload/math.cpython-37m-darwin.so'>,\n",
       "  4: <module 'fractions' from '/Applications/anaconda3/lib/python3.7/fractions.py'>},\n",
       " '_dh': ['/Users/gkaberere/code/Python/Github Personal/learningPython/course_notes/python_3_deep_dive_part_1_functional'],\n",
       " 'In': ['',\n",
       "  'import math',\n",
       "  'math',\n",
       "  'import fractions',\n",
       "  'fractions',\n",
       "  'globals()'],\n",
       " 'Out': {2: <module 'math' from '/Applications/anaconda3/lib/python3.7/lib-dynload/math.cpython-37m-darwin.so'>,\n",
       "  4: <module 'fractions' from '/Applications/anaconda3/lib/python3.7/fractions.py'>},\n",
       " 'get_ipython': <bound method InteractiveShell.get_ipython of <ipykernel.zmqshell.ZMQInteractiveShell object at 0x7fad70638a50>>,\n",
       " 'exit': <IPython.core.autocall.ZMQExitAutocall at 0x7fad70692950>,\n",
       " 'quit': <IPython.core.autocall.ZMQExitAutocall at 0x7fad70692950>,\n",
       " '_': <module 'fractions' from '/Applications/anaconda3/lib/python3.7/fractions.py'>,\n",
       " '__': <module 'math' from '/Applications/anaconda3/lib/python3.7/lib-dynload/math.cpython-37m-darwin.so'>,\n",
       " '___': '',\n",
       " '_i': 'fractions',\n",
       " '_ii': 'import fractions',\n",
       " '_iii': 'math',\n",
       " '_i1': 'import math',\n",
       " 'math': <module 'math' from '/Applications/anaconda3/lib/python3.7/lib-dynload/math.cpython-37m-darwin.so'>,\n",
       " '_i2': 'math',\n",
       " '_2': <module 'math' from '/Applications/anaconda3/lib/python3.7/lib-dynload/math.cpython-37m-darwin.so'>,\n",
       " '_i3': 'import fractions',\n",
       " 'fractions': <module 'fractions' from '/Applications/anaconda3/lib/python3.7/fractions.py'>,\n",
       " '_i4': 'fractions',\n",
       " '_4': <module 'fractions' from '/Applications/anaconda3/lib/python3.7/fractions.py'>,\n",
       " '_i5': 'globals()'}"
      ]
     },
     "execution_count": 5,
     "metadata": {},
     "output_type": "execute_result"
    }
   ],
   "source": [
    "globals()"
   ]
  },
  {
   "cell_type": "code",
   "execution_count": null,
   "metadata": {},
   "outputs": [],
   "source": []
  }
 ],
 "metadata": {
  "kernelspec": {
   "display_name": "Python 3",
   "language": "python",
   "name": "python3"
  },
  "language_info": {
   "codemirror_mode": {
    "name": "ipython",
    "version": 3
   },
   "file_extension": ".py",
   "mimetype": "text/x-python",
   "name": "python",
   "nbconvert_exporter": "python",
   "pygments_lexer": "ipython3",
   "version": "3.7.6"
  }
 },
 "nbformat": 4,
 "nbformat_minor": 4
}
