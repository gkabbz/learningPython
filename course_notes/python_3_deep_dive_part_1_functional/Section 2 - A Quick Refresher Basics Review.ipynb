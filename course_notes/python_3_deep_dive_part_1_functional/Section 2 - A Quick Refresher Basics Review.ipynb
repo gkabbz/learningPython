{
 "cells": [
  {
   "cell_type": "markdown",
   "metadata": {},
   "source": [
    "### Notebook Description\n",
    "This notebook contains my notes from the course Python 3 deep dive, part 1 functional taken on [Udemy](https://mozilla.udemy.com/course/python-3-deep-dive-part-1/learn/lecture/7192358#overview).\n",
    "\n",
    "### Section 1: The Python Type Hierarchy\n",
    "#### Hierarchy Overview\n",
    "\n",
    "The subsets covered in the course include:\n",
    "1. Numbers\n",
    "    - Integral\n",
    "        - Integers\n",
    "        - Booleans\n",
    "    - Non Integral\n",
    "        - Floats\n",
    "        - Complex (numbers that have a real and imaginary path)\n",
    "        - Decimals (gives precision on the number)\n",
    "        - Fractions\n",
    "2. Collections\n",
    "    - Sequences\n",
    "        - Mutable (liable to change)\n",
    "            - Lists\n",
    "        - Immutable (unchanging over time or unable to be changed)\n",
    "            - Tuples\n",
    "            - Strings\n",
    "    - Sets\n",
    "        - Mutable\n",
    "            - Sets\n",
    "        - Immutable\n",
    "            - Frozen Sets\n",
    "    Mappings\n",
    "        - Dictionaries\n",
    "3. Callables (Anything you can invoke or call)\n",
    "    - User-Defined Functions\n",
    "    - Generators\n",
    "    - Classes\n",
    "    - Instance Methods\n",
    "    - Class Instances ```(__call__())```\n",
    "    - Built-in Functions e.g. ```len(), open()```\n",
    "    - Built-in Methods e.g. ```my_list.append(x)```\n",
    "4. Singletons\n",
    "    - None\n",
    "    - NotImplemented\n",
    "    - Ellipsis(...)"
   ]
  },
  {
   "cell_type": "markdown",
   "metadata": {},
   "source": [
    "### Section 2: A Quick Refresher Basics Review\n",
    "#### Multi-Line Statements and Strings\n",
    "Python program is simply a text file that has code. That code is then worked on by the Python compiler and then tokenized so it can be executed. \n",
    "##### Multi-Line Statements\n",
    "- We use multiline statements for human readability. Other people need to read our code. I might be reading it 6 months later and need to think about what was I doing.\n",
    "- Conversion between physical and logical new lines is done either implicitly or explicitly\n",
    "    - Implicitly\n",
    "    \n",
    "        Expressions in:\n",
    "            List literals: []\n",
    "            tuple literals: ()\n",
    "            dictionary literals: {}\n",
    "            set literals: {}\n",
    "            function arguments / parameters\n",
    "        This will support inline comments\n",
    "    "
   ]
  },
  {
   "cell_type": "code",
   "execution_count": 8,
   "metadata": {},
   "outputs": [
    {
     "name": "stdout",
     "output_type": "stream",
     "text": [
      "10 20 30\n"
     ]
    }
   ],
   "source": [
    "# List Example\n",
    "[\n",
    "    1, #inline comments\n",
    "    2, #inline comments\n",
    "    3\n",
    "]\n",
    "\n",
    "# Function Example\n",
    "def my_func(a,\n",
    "           b, # Comment\n",
    "           c):\n",
    "    print(a,b,c)\n",
    "\n",
    "my_func(10, 20, 30)"
   ]
  },
  {
   "cell_type": "markdown",
   "metadata": {},
   "source": [
    "- Explicitly\n",
    "\n",
    "You can break up statements over multiple lines explicitly, by using the ```\\``` (backslash) character\n",
    "Multi-line statements are not implicitly converted to a single logical line\n",
    "\n",
    "Example:\n",
    "This won't work\n",
    "\n",
    "``` if a\n",
    "        and b\n",
    "        and c: ```\n",
    "\n",
    "This will work\n",
    "\n",
    "``` if a \\ \n",
    "        and b \\\n",
    "        and c:```\n",
    "\n",
    "You can't put in comments a part of an explicitly defined multi line statement.\n",
    "\n",
    "##### Multi-Line String Literals\n",
    "Created using triple delimiters ('Single or \"double\")\n",
    "E.g. ''' This is a \n",
    "multi-line string'''\n",
    "or \n",
    "\"\"\" This is a \n",
    "multi-line string\"\"\"\n",
    "It is a regular string. So can use escaped characters. \n",
    "\n",
    "Multi-line strings are not comments. You can use them as such for docstrings so that they are kept in the code when python compiles the code but they are not comments. Be careful about trying to line up strings in the code as it'll likely not appear the same way in the console. Focus on making sure that the string is represented as you'd like it in the console.\n"
   ]
  },
  {
   "cell_type": "code",
   "execution_count": 28,
   "metadata": {
    "scrolled": true
   },
   "outputs": [
    {
     "name": "stdout",
     "output_type": "stream",
     "text": [
      "a multi-line string\n",
      "    that is indented in the second line\n",
      "a multi-line string\n",
      "that is indented in the second line\n"
     ]
    }
   ],
   "source": [
    "def my_func():\n",
    "    a = '''a multi-line string\n",
    "    that is indented in the second line'''\n",
    "    return a\n",
    "\n",
    "# Versus\n",
    "def my_func_2():\n",
    "    b = '''a multi-line string\n",
    "that is indented in the second line'''\n",
    "    return b\n",
    "\n",
    "print(my_func())\n",
    "print(my_func_2())\n",
    "\n",
    "# The first will take the automatic function formatting where the line was indented and apply it to the string.\n",
    "# If this is not what you want, then you have to purposefully remove the automatic indentation from in the function\n",
    "\n"
   ]
  },
  {
   "cell_type": "markdown",
   "metadata": {},
   "source": [
    "##### Variable Names\n",
    "Identifier names are case sensitive\n",
    "e.g. "
   ]
  }
 ],
 "metadata": {
  "kernelspec": {
   "display_name": "Python 3",
   "language": "python",
   "name": "python3"
  },
  "language_info": {
   "codemirror_mode": {
    "name": "ipython",
    "version": 3
   },
   "file_extension": ".py",
   "mimetype": "text/x-python",
   "name": "python",
   "nbconvert_exporter": "python",
   "pygments_lexer": "ipython3",
   "version": "3.6.5"
  }
 },
 "nbformat": 4,
 "nbformat_minor": 2
}
